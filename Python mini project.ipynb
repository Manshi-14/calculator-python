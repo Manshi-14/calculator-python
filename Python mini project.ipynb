{
 "cells": [
  {
   "cell_type": "code",
   "execution_count": 1,
   "id": "6706fd6e",
   "metadata": {},
   "outputs": [
    {
     "name": "stdout",
     "output_type": "stream",
     "text": [
      "8\n",
      "-2\n",
      "15\n",
      "0.6\n",
      "243\n",
      "1.5\n"
     ]
    }
   ],
   "source": [
    "\n",
    "def calculateAnswer(lhs, rhs, operator):\n",
    "    if(operator == \"-\"):\n",
    "        return lhs - rhs\n",
    "    if(operator == \"*\"):\n",
    "        return lhs * rhs\n",
    "    if(operator == \"/\"):\n",
    "        if rhs == 0:\n",
    "            raise Exception(\"Denominator can't be zero\")\n",
    "        return lhs / rhs\n",
    "    if(operator == \"+\"):\n",
    "        return lhs + rhs\n",
    "    if(operator == \"^\"):\n",
    "        return pow(lhs, rhs)\n",
    "    raise Exception(\"Unknown operator\")\n",
    "\n",
    "print(calculateAnswer(3,5,\"+\"))\n",
    "print(calculateAnswer(3,5,\"-\"))\n",
    "print(calculateAnswer(3,5,\"*\"))\n",
    "print(calculateAnswer(3,5,\"/\"))\n",
    "print(calculateAnswer(3,5,\"^\"))\n",
    "print(calculateAnswer(3,2,\"/\"))"
   ]
  },
  {
   "cell_type": "code",
   "execution_count": 2,
   "id": "83163b20",
   "metadata": {},
   "outputs": [],
   "source": [
    "from random import randint\n",
    "def generateQuestion():\n",
    "    ops = \"/*-+^\"\n",
    "    opIndex = randint(0, len(ops)-1)\n",
    "    operator = ops[opIndex]\n",
    "    lhs = randint(0, 9)\n",
    "    rhs = randint(0, 9)\n",
    "    while(rhs == 0  and operator == \"/\"):\n",
    "        rhs = randint(0, 10)\n",
    "    return lhs, rhs, operator\n",
    "\n",
    "for i in range(10):\n",
    "    results = generateQuestion()\n",
    "    answer = calculateAnswer(results[0], results[1], results[2])\n",
    "    "
   ]
  },
  {
   "cell_type": "code",
   "execution_count": 3,
   "id": "f25f4fff",
   "metadata": {},
   "outputs": [],
   "source": [
    "def isCorrectEnoughAnswer(givenAnswer, correctAnswer, tolerance = 0.01):\n",
    "    difference = abs(float(givenAnswer) - float(correctAnswer))\n",
    "    return difference <= tolerance"
   ]
  },
  {
   "cell_type": "code",
   "execution_count": 4,
   "id": "ad0fe3ba",
   "metadata": {},
   "outputs": [
    {
     "name": "stdout",
     "output_type": "stream",
     "text": [
      "How many question do you want to answer?4\n",
      "Question  1\n",
      "9 / 9 = 1\n",
      "Correct\n",
      "Question  2\n",
      "7 * 0 = 0\n",
      "Correct\n",
      "Question  3\n",
      "6 * 2 = 20\n",
      "INCORRECT. Correct answer is, 12\n",
      "Question  4\n",
      "6 + 7 = 11\n",
      "INCORRECT. Correct answer is, 13\n",
      "You got 2 correct out of 4\n"
     ]
    }
   ],
   "source": [
    "totalNoOfQuestions = int(input(\"How many question do you want to answer?\"))\n",
    "correctNoOfAnswer = 0\n",
    "for i in range(totalNoOfQuestions):\n",
    "    print(\"Question \", i+1)\n",
    "    question = generateQuestion()\n",
    "    correctAnswer = calculateAnswer(question[0], question[1], question[2])\n",
    "    playerAnswer = input(\"{0} {2} {1} = \".format(question[0], question[1], question[2]))\n",
    "    if isCorrectEnoughAnswer(correctAnswer, playerAnswer):\n",
    "        correctNoOfAnswer += 1\n",
    "        print(\"Correct\")\n",
    "    else:\n",
    "        print(\"INCORRECT. Correct answer is, \" + str(correctAnswer))\n",
    "        \n",
    "print(\"You got {} correct out of {}\".format(correctNoOfAnswer, totalNoOfQuestions))"
   ]
  },
  {
   "cell_type": "code",
   "execution_count": null,
   "id": "8f23637d",
   "metadata": {},
   "outputs": [],
   "source": []
  }
 ],
 "metadata": {
  "kernelspec": {
   "display_name": "Python 3",
   "language": "python",
   "name": "python3"
  },
  "language_info": {
   "codemirror_mode": {
    "name": "ipython",
    "version": 3
   },
   "file_extension": ".py",
   "mimetype": "text/x-python",
   "name": "python",
   "nbconvert_exporter": "python",
   "pygments_lexer": "ipython3",
   "version": "3.8.8"
  }
 },
 "nbformat": 4,
 "nbformat_minor": 5
}
